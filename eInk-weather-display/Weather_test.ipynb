{
 "cells": [
  {
   "cell_type": "code",
   "execution_count": null,
   "metadata": {},
   "outputs": [],
   "source": [
    "from configparser import SectionProxy\n",
    "import log\n",
    "import logging\n",
    "import utils\n",
    "from icons import get_weather_images\n",
    "import configparser\n",
    "import refresh\n",
    "from inky.inky_uc8159 import Inky\n",
    "\n",
    "\n"
   ]
  },
  {
   "cell_type": "code",
   "execution_count": 2,
   "metadata": {},
   "outputs": [
    {
     "name": "stderr",
     "output_type": "stream",
     "text": [
      "2023-02-25 23:14:44 - __main__ - INFO - App starting\n",
      "2023-02-25 23:14:44 - __main__ - INFO - Reading config file \"config.ini\"\n",
      "2023-02-25 23:16:27 - __main__ - INFO - Config: [('fmi_location', 'Copenhagen'), ('apikey', '56ee1e08-ff65-465e-a3a6-5bf419f54a7d'), ('use_random_data', 'False'), ('draw_panel_borders', 'True'), ('draw_borders', 'True'), ('moon_icon_size', '120'), ('ruuvitag_mac_in', 'AA:BB:CC:DD:EE:FF'), ('ruuvitag_mac_out', 'AA:BB:CC:DD:EE:FF'), ('sensor_poll_timeout', '10000'), ('rotate_180', 'False'), ('mirror_horizontal', 'False'), ('epd_model', '10.3'), ('epd_voltage', '1370'), ('file_output', 'False'), ('output_filename', 'image.png'), ('bits_per_pixel', '1'), ('refresh_full_interval', '5'), ('refresh_partial_interval', '5'), ('high_temperature_warning_threshold', '25'), ('extreme_high_temperature_warning_threshold', '30'), ('low_temperature_warning_threshold', '-20'), ('extreme_low_temperature_warning_threshold', '-30'), ('tropical_night_temperature_warning_threshold', '20')]\n",
      "2023-02-25 23:16:27 - icons - INFO - Importing icons\n",
      "2023-02-25 23:16:28 - __main__ - INFO - Import epd control library\n",
      "2023-02-25 23:16:28 - __main__ - INFO - Initial refresh\n",
      "2023-02-25 23:16:28 - refresh - INFO - Refresh started\n",
      "2023-02-25 23:16:28 - refresh - INFO - Received forecast data: ({'2023-02-26T02:00:00+00:00': {'Temperature': 0.8, 'WindSpeedMS': 5.77, 'WindDirection': 6.0, 'TotalCloudCover': 1.0, 'WeatherSymbol3': 1.0}, '2023-02-26T08:00:00+00:00': {'Temperature': 1.4, 'WindSpeedMS': 3.14, 'WindDirection': 348.0, 'TotalCloudCover': 0.5, 'WeatherSymbol3': 1.0}, '2023-02-26T14:00:00+00:00': {'Temperature': 4.7, 'WindSpeedMS': 3.63, 'WindDirection': 340.0, 'TotalCloudCover': 1.3, 'WeatherSymbol3': 1.0}, '2023-02-26T20:00:00+00:00': {'Temperature': 1.6, 'WindSpeedMS': 2.62, 'WindDirection': 344.0, 'TotalCloudCover': 0.0, 'WeatherSymbol3': 1.0}, '2023-02-27T02:00:00+00:00': {'Temperature': -0.1, 'WindSpeedMS': 1.81, 'WindDirection': 315.0, 'TotalCloudCover': 1.6, 'WeatherSymbol3': 1.0}, '2023-02-27T08:00:00+00:00': {'Temperature': 3.0, 'WindSpeedMS': 1.31, 'WindDirection': 323.0, 'TotalCloudCover': 82.6, 'WeatherSymbol3': 3.0}, '2023-02-27T14:00:00+00:00': {'Temperature': 5.2, 'WindSpeedMS': 0.83, 'WindDirection': 142.0, 'TotalCloudCover': 98.6, 'WeatherSymbol3': 3.0}}, ('55.67594', '12.56553'), 'Copenhagen', '2618425')\n"
     ]
    },
    {
     "name": "stdout",
     "output_type": "stream",
     "text": [
      "https://api.energidataservice.dk/dataset/Elspotprices?filter={\"PriceArea\":\"DK2\"}&start=2023-02-25T00:00&end=2023-02-27T00:00\n",
      "Datetime_UTC\n",
      "2023-02-26 22:00:00    23\n",
      "2023-02-26 21:00:00    22\n",
      "2023-02-26 20:00:00    21\n",
      "2023-02-26 19:00:00    20\n",
      "2023-02-26 18:00:00    19\n",
      "2023-02-26 17:00:00    18\n",
      "2023-02-26 16:00:00    17\n",
      "2023-02-26 15:00:00    16\n",
      "2023-02-26 14:00:00    15\n",
      "2023-02-26 13:00:00    14\n",
      "2023-02-26 12:00:00    13\n",
      "2023-02-26 11:00:00    12\n",
      "2023-02-26 10:00:00    11\n",
      "2023-02-26 09:00:00    10\n",
      "2023-02-26 08:00:00     9\n",
      "2023-02-26 07:00:00     8\n",
      "2023-02-26 06:00:00     7\n",
      "2023-02-26 05:00:00     6\n",
      "2023-02-26 04:00:00     5\n",
      "2023-02-26 03:00:00     4\n",
      "2023-02-26 02:00:00     3\n",
      "2023-02-26 01:00:00     2\n",
      "2023-02-26 00:00:00     1\n",
      "2023-02-25 23:00:00     0\n",
      "2023-02-25 22:00:00    23\n",
      "2023-02-25 21:00:00    22\n",
      "2023-02-25 20:00:00    21\n",
      "2023-02-25 19:00:00    20\n",
      "2023-02-25 18:00:00    19\n",
      "2023-02-25 17:00:00    18\n",
      "2023-02-25 16:00:00    17\n",
      "2023-02-25 15:00:00    16\n",
      "2023-02-25 14:00:00    15\n",
      "2023-02-25 13:00:00    14\n",
      "2023-02-25 12:00:00    13\n",
      "2023-02-25 11:00:00    12\n",
      "2023-02-25 10:00:00    11\n",
      "2023-02-25 09:00:00    10\n",
      "2023-02-25 08:00:00     9\n",
      "2023-02-25 07:00:00     8\n",
      "2023-02-25 06:00:00     7\n",
      "2023-02-25 05:00:00     6\n",
      "2023-02-25 04:00:00     5\n",
      "2023-02-25 03:00:00     4\n",
      "2023-02-25 02:00:00     3\n",
      "2023-02-25 01:00:00     2\n",
      "2023-02-25 00:00:00     1\n",
      "2023-02-24 23:00:00     0\n",
      "Name: Hour, dtype: int32\n"
     ]
    },
    {
     "ename": "ValueError",
     "evalue": "list of cases must be same length as list of conditions",
     "output_type": "error",
     "traceback": [
      "\u001b[0;31m---------------------------------------------------------------------------\u001b[0m",
      "\u001b[0;31mValueError\u001b[0m                                Traceback (most recent call last)",
      "\u001b[1;32m/home/oli/eInk-weather-display/eInk-weather-display/Weather_test.ipynb Cell 2\u001b[0m in \u001b[0;36m<cell line: 20>\u001b[0;34m()\u001b[0m\n\u001b[1;32m     <a href='vscode-notebook-cell://ssh-remote%2Braspberrypi/home/oli/eInk-weather-display/eInk-weather-display/Weather_test.ipynb#W1sdnNjb2RlLXJlbW90ZQ%3D%3D?line=31'>32</a>\u001b[0m \u001b[39m#(epd_so, panel_size) = utils.get_epd_data(config)\u001b[39;00m\n\u001b[1;32m     <a href='vscode-notebook-cell://ssh-remote%2Braspberrypi/home/oli/eInk-weather-display/eInk-weather-display/Weather_test.ipynb#W1sdnNjb2RlLXJlbW90ZQ%3D%3D?line=33'>34</a>\u001b[0m logger\u001b[39m.\u001b[39minfo(\u001b[39m\"\u001b[39m\u001b[39mInitial refresh\u001b[39m\u001b[39m\"\u001b[39m)\n\u001b[0;32m---> <a href='vscode-notebook-cell://ssh-remote%2Braspberrypi/home/oli/eInk-weather-display/eInk-weather-display/Weather_test.ipynb#W1sdnNjb2RlLXJlbW90ZQ%3D%3D?line=34'>35</a>\u001b[0m image \u001b[39m=\u001b[39m refresh\u001b[39m.\u001b[39;49mrefresh(panel_size, fonts, images, config, inky, \u001b[39mTrue\u001b[39;49;00m)\n",
      "File \u001b[0;32m~/eInk-weather-display/eInk-weather-display/refresh.py:35\u001b[0m, in \u001b[0;36mrefresh\u001b[0;34m(panel_size, fonts, images, config, inky, init)\u001b[0m\n\u001b[1;32m     33\u001b[0m El_data \u001b[39m=\u001b[39m \u001b[39mNone\u001b[39;00m\n\u001b[1;32m     34\u001b[0m \u001b[39mwhile\u001b[39;00m El_data \u001b[39mis\u001b[39;00m \u001b[39mNone\u001b[39;00m:\n\u001b[0;32m---> 35\u001b[0m   El_data, new_data \u001b[39m=\u001b[39m get_El_price(now\u001b[39m.\u001b[39;49mdate()\u001b[39m-\u001b[39;49mtimedelta(hours\u001b[39m=\u001b[39;49m\u001b[39m2\u001b[39;49m), now\u001b[39m.\u001b[39;49mdate()\u001b[39m+\u001b[39;49mtimedelta(days\u001b[39m=\u001b[39;49m\u001b[39m2\u001b[39;49m), region\u001b[39m=\u001b[39;49m\u001b[39m'\u001b[39;49m\u001b[39meast\u001b[39;49m\u001b[39m'\u001b[39;49m)\n\u001b[1;32m     37\u001b[0m \u001b[39m# Draw individual panels\u001b[39;00m\n\u001b[1;32m     38\u001b[0m logger\u001b[39m.\u001b[39minfo(\u001b[39m'\u001b[39m\u001b[39mDrawing panels\u001b[39m\u001b[39m'\u001b[39m)\n",
      "File \u001b[0;32m~/eInk-weather-display/eInk-weather-display/Electricity.py:85\u001b[0m, in \u001b[0;36mget_El_price\u001b[0;34m(start_date, end_date, region)\u001b[0m\n\u001b[1;32m     79\u001b[0m \u001b[39mprint\u001b[39m(df[\u001b[39m\"\u001b[39m\u001b[39mHour\u001b[39m\u001b[39m\"\u001b[39m]\u001b[39m.\u001b[39mastype(\u001b[39mint\u001b[39m))\n\u001b[1;32m     80\u001b[0m transport_hour_ranges \u001b[39m=\u001b[39m [\n\u001b[1;32m     81\u001b[0m     (df[\u001b[39m\"\u001b[39m\u001b[39mHour\u001b[39m\u001b[39m\"\u001b[39m]\u001b[39m.\u001b[39mastype(\u001b[39mint\u001b[39m)\u001b[39m>\u001b[39m\u001b[39m=\u001b[39m\u001b[39m6\u001b[39m) \u001b[39m&\u001b[39m (df[\u001b[39m\"\u001b[39m\u001b[39mHour\u001b[39m\u001b[39m\"\u001b[39m]\u001b[39m.\u001b[39mastype(\u001b[39mint\u001b[39m)\u001b[39m<\u001b[39m\u001b[39m16\u001b[39m),   \u001b[39m# Day\u001b[39;00m\n\u001b[1;32m     82\u001b[0m     (df[\u001b[39m\"\u001b[39m\u001b[39mHour\u001b[39m\u001b[39m\"\u001b[39m]\u001b[39m.\u001b[39mastype(\u001b[39mint\u001b[39m)\u001b[39m>\u001b[39m\u001b[39m=\u001b[39m\u001b[39m16\u001b[39m) \u001b[39m&\u001b[39m (df[\u001b[39m\"\u001b[39m\u001b[39mHour\u001b[39m\u001b[39m\"\u001b[39m]\u001b[39m.\u001b[39mastype(\u001b[39mint\u001b[39m)\u001b[39m<\u001b[39m\u001b[39m21\u001b[39m),  \u001b[39m# Evening\u001b[39;00m\n\u001b[1;32m     83\u001b[0m     (df[\u001b[39m\"\u001b[39m\u001b[39mHour\u001b[39m\u001b[39m\"\u001b[39m]\u001b[39m.\u001b[39mastype(\u001b[39mint\u001b[39m)\u001b[39m>\u001b[39m\u001b[39m=\u001b[39m\u001b[39m21\u001b[39m) \u001b[39m|\u001b[39m (df[\u001b[39m\"\u001b[39m\u001b[39mHour\u001b[39m\u001b[39m\"\u001b[39m]\u001b[39m.\u001b[39mastype(\u001b[39mint\u001b[39m)\u001b[39m<\u001b[39m\u001b[39m6\u001b[39m)    \u001b[39m# Night\u001b[39;00m\n\u001b[1;32m     84\u001b[0m ]\n\u001b[0;32m---> 85\u001b[0m df[\u001b[39m'\u001b[39m\u001b[39mTariff\u001b[39m\u001b[39m'\u001b[39m] \u001b[39m=\u001b[39m np\u001b[39m.\u001b[39;49mselect(transport_hour_ranges, transport_tarrifs)\n\u001b[1;32m     86\u001b[0m df[\u001b[39m'\u001b[39m\u001b[39mPrice\u001b[39m\u001b[39m'\u001b[39m] \u001b[39m=\u001b[39m df[\u001b[39m'\u001b[39m\u001b[39mPrice_el\u001b[39m\u001b[39m'\u001b[39m] \u001b[39m+\u001b[39m df[\u001b[39m'\u001b[39m\u001b[39mTariff\u001b[39m\u001b[39m'\u001b[39m]\n\u001b[1;32m     87\u001b[0m pd\u001b[39m.\u001b[39mset_option(\u001b[39m'\u001b[39m\u001b[39mdisplay.max_columns\u001b[39m\u001b[39m'\u001b[39m, \u001b[39m13\u001b[39m)\n",
      "File \u001b[0;32m<__array_function__ internals>:180\u001b[0m, in \u001b[0;36mselect\u001b[0;34m(*args, **kwargs)\u001b[0m\n",
      "File \u001b[0;32m~/venv/eink/lib/python3.9/site-packages/numpy/lib/function_base.py:810\u001b[0m, in \u001b[0;36mselect\u001b[0;34m(condlist, choicelist, default)\u001b[0m\n\u001b[1;32m    808\u001b[0m \u001b[39m# Check the size of condlist and choicelist are the same, or abort.\u001b[39;00m\n\u001b[1;32m    809\u001b[0m \u001b[39mif\u001b[39;00m \u001b[39mlen\u001b[39m(condlist) \u001b[39m!=\u001b[39m \u001b[39mlen\u001b[39m(choicelist):\n\u001b[0;32m--> 810\u001b[0m     \u001b[39mraise\u001b[39;00m \u001b[39mValueError\u001b[39;00m(\n\u001b[1;32m    811\u001b[0m         \u001b[39m'\u001b[39m\u001b[39mlist of cases must be same length as list of conditions\u001b[39m\u001b[39m'\u001b[39m)\n\u001b[1;32m    813\u001b[0m \u001b[39m# Now that the dtype is known, handle the deprecated select([], []) case\u001b[39;00m\n\u001b[1;32m    814\u001b[0m \u001b[39mif\u001b[39;00m \u001b[39mlen\u001b[39m(condlist) \u001b[39m==\u001b[39m \u001b[39m0\u001b[39m:\n",
      "\u001b[0;31mValueError\u001b[0m: list of cases must be same length as list of conditions"
     ]
    }
   ],
   "source": [
    "CONFIG_FILENAME = 'config.ini'\n",
    "log.setup()\n",
    "logger = logging.getLogger(__name__)\n",
    "logger.info(\"App starting\")\n",
    "utils.check_python_version()\n",
    "logger.info(f'Reading config file \"{CONFIG_FILENAME}\"')\n",
    "logging.getLogger('matplotlib.font_manager').disabled = True\n",
    "import time\n",
    "\n",
    "inky = Inky()\n",
    "\n",
    "for _ in range(1):\n",
    "    for y in range(inky.height - 1):\n",
    "        for x in range(inky.width - 1):\n",
    "            inky.set_pixel(x, y, inky.WHITE)\n",
    "\n",
    "    inky.show()\n",
    "    time.sleep(20)\n",
    "\n",
    "with open(CONFIG_FILENAME) as f:\n",
    "    config_parser = configparser.ConfigParser()\n",
    "    config_parser.read_file(f)\n",
    "    logger.info('Config: %s', config_parser.items('general'))\n",
    "    config = config_parser['general']\n",
    "\n",
    "    fonts = utils.get_fonts(config)\n",
    "    images = get_weather_images()\n",
    "\n",
    "    logger.info('Import epd control library')\n",
    "    #panel_size = inky.resolution\n",
    "    panel_size = (600, 448)\n",
    "    #(epd_so, panel_size) = utils.get_epd_data(config)\n",
    "\n",
    "    logger.info(\"Initial refresh\")\n",
    "    image = refresh.refresh(panel_size, fonts, images, config, inky, True)  # Once in the beginning\n",
    "    #time.sleep(10)\n",
    "    #image = refresh.refresh(panel_size, fonts, images, config, inky, True)  # Once in the beginning\n"
   ]
  }
 ],
 "metadata": {
  "kernelspec": {
   "display_name": "Python 3.9.2 ('eink')",
   "language": "python",
   "name": "python3"
  },
  "language_info": {
   "codemirror_mode": {
    "name": "ipython",
    "version": 3
   },
   "file_extension": ".py",
   "mimetype": "text/x-python",
   "name": "python",
   "nbconvert_exporter": "python",
   "pygments_lexer": "ipython3",
   "version": "3.9.2"
  },
  "orig_nbformat": 4,
  "vscode": {
   "interpreter": {
    "hash": "e8e6a5badf42d97750ebbef5df75e16b56e213a43b280a42a5209d8c317644d4"
   }
  }
 },
 "nbformat": 4,
 "nbformat_minor": 2
}
