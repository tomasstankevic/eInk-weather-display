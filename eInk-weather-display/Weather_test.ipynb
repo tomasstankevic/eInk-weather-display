{
 "cells": [
  {
   "cell_type": "code",
   "execution_count": 1,
   "metadata": {},
   "outputs": [],
   "source": [
    "import ctypes\n",
    "import logging\n",
    "from PIL import Image, ImageDraw\n",
    "#from observation_panel import get_observation_panel\n",
    "from info_panel import get_info_panel\n",
    "from forecast_panel import get_forecasts_panel\n",
    "from celestial_panel import get_celestial_panel\n",
    "from sensor_panel import get_sensor_panel\n",
    "#from sensor_data import get_sensor_data\n",
    "from timeit import default_timer as timer\n",
    "from configparser import SectionProxy\n",
    "from typing import Optional\n",
    "from type_alias import Icons, Fonts\n",
    "from multiprocessing import Process\n",
    "from weather import get_observation_data, get_forecast_data, get_radiation_data\n",
    "import log\n",
    "import logging\n",
    "import utils\n",
    "from icons import get_weather_images\n",
    "import configparser\n",
    "import refresh\n",
    "from inky.inky_uc8159 import Inky, DESATURATED_PALETTE, SATURATED_PALETTE\n",
    "\n",
    "\n"
   ]
  },
  {
   "cell_type": "code",
   "execution_count": 3,
   "metadata": {},
   "outputs": [
    {
     "name": "stderr",
     "output_type": "stream",
     "text": [
      "2022-08-27 13:42:58 - __main__ - INFO - App starting\n",
      "2022-08-27 13:42:58 - __main__ - INFO - Reading config file \"config.ini\"\n",
      "2022-08-27 13:42:59 - __main__ - INFO - Config: [('fmi_location', 'Copenhagen'), ('use_random_data', 'False'), ('draw_panel_borders', 'True'), ('draw_borders', 'True'), ('moon_icon_size', '120'), ('ruuvitag_mac_in', 'AA:BB:CC:DD:EE:FF'), ('ruuvitag_mac_out', 'AA:BB:CC:DD:EE:FF'), ('sensor_poll_timeout', '10000'), ('rotate_180', 'False'), ('mirror_horizontal', 'False'), ('epd_model', '10.3'), ('epd_voltage', '1370'), ('file_output', 'False'), ('output_filename', 'image.png'), ('bits_per_pixel', '1'), ('refresh_full_interval', '1440'), ('refresh_partial_interval', '1440'), ('high_temperature_warning_threshold', '25'), ('extreme_high_temperature_warning_threshold', '30'), ('low_temperature_warning_threshold', '-20'), ('extreme_low_temperature_warning_threshold', '-30'), ('tropical_night_temperature_warning_threshold', '20')]\n",
      "2022-08-27 13:42:59 - icons - INFO - Importing icons\n",
      "2022-08-27 13:42:59 - __main__ - INFO - Import epd control library\n",
      "2022-08-27 13:42:59 - __main__ - INFO - Initial refresh\n",
      "2022-08-27 13:42:59 - refresh - INFO - Refresh started\n",
      "2022-08-27 13:42:59 - urllib3.connectionpool - DEBUG - Starting new HTTP connection (1): opendata.fmi.fi:80\n",
      "2022-08-27 13:42:59 - urllib3.connectionpool - DEBUG - http://opendata.fmi.fi:80 \"GET /wfs/eng?service=WFS&version=2.0.0&request=GetFeature&storedQuery_id=fmi%3A%3Aforecast%3A%3Aharmonie%3A%3Asurface%3A%3Apoint%3A%3Amultipointcoverage&place=Copenhagen&parameters=Temperature%2CWindSpeedMS%2CWindDirection%2CTotalCloudCover%2CWeatherSymbol3&starttime=2022-08-27T15%3A00%3A00%2B02%3A00 HTTP/1.1\" 200 2830\n",
      "2022-08-27 13:42:59 - refresh - INFO - Received forecast data: ({'2022-08-27T13:00:00+00:00': {'Temperature': 21.7, 'WindSpeedMS': 2.52, 'WindDirection': 330.0, 'TotalCloudCover': 100.0, 'WeatherSymbol3': 3.0}, '2022-08-27T19:00:00+00:00': {'Temperature': 19.4, 'WindSpeedMS': 2.17, 'WindDirection': 343.0, 'TotalCloudCover': 100.0, 'WeatherSymbol3': 31.0}, '2022-08-28T01:00:00+00:00': {'Temperature': 18.8, 'WindSpeedMS': 2.82, 'WindDirection': 315.0, 'TotalCloudCover': 99.4, 'WeatherSymbol3': 3.0}, '2022-08-28T07:00:00+00:00': {'Temperature': 20.1, 'WindSpeedMS': 3.09, 'WindDirection': 294.0, 'TotalCloudCover': 100.0, 'WeatherSymbol3': 31.0}, '2022-08-28T13:00:00+00:00': {'Temperature': 20.1, 'WindSpeedMS': 4.65, 'WindDirection': 276.0, 'TotalCloudCover': 100.0, 'WeatherSymbol3': 63.0}, '2022-08-28T19:00:00+00:00': {'Temperature': 16.0, 'WindSpeedMS': 5.95, 'WindDirection': 290.0, 'TotalCloudCover': 100.0, 'WeatherSymbol3': 63.0}, '2022-08-29T01:00:00+00:00': {'Temperature': 16.8, 'WindSpeedMS': 3.4, 'WindDirection': 12.0, 'TotalCloudCover': 100.0, 'WeatherSymbol3': 3.0}}, ('55.67594', '12.56553'), 'Copenhagen', '2618425')\n",
      "2022-08-27 13:42:59 - refresh - INFO - Drawing panels\n",
      "2022-08-27 13:42:59 - forecast_panel - INFO - Generating forecast panel\n",
      "2022-08-27 13:43:00 - info_panel - INFO - Generating info panel\n",
      "2022-08-27 13:43:00 - matplotlib.category - INFO - Using categorical units to plot a list of strings that are all parsable as floats or dates. If these strings should be plotted as numbers, cast to the appropriate data type before plotting.\n",
      "2022-08-27 13:43:00 - matplotlib.category - INFO - Using categorical units to plot a list of strings that are all parsable as floats or dates. If these strings should be plotted as numbers, cast to the appropriate data type before plotting.\n",
      "2022-08-27 13:43:00 - matplotlib.category - INFO - Using categorical units to plot a list of strings that are all parsable as floats or dates. If these strings should be plotted as numbers, cast to the appropriate data type before plotting.\n",
      "2022-08-27 13:43:00 - refresh - INFO - Pasting panels\n"
     ]
    },
    {
     "ename": "ValueError",
     "evalue": "cannot determine region size; use 4-item box",
     "output_type": "error",
     "traceback": [
      "\u001b[0;31m---------------------------------------------------------------------------\u001b[0m",
      "\u001b[0;31mValueError\u001b[0m                                Traceback (most recent call last)",
      "\u001b[1;32m/home/oli/eInk-weather-display/eInk-weather-display/Weather_test.ipynb Cell 2\u001b[0m in \u001b[0;36m<cell line: 9>\u001b[0;34m()\u001b[0m\n\u001b[1;32m     <a href='vscode-notebook-cell://ssh-remote%2B192.168.0.66/home/oli/eInk-weather-display/eInk-weather-display/Weather_test.ipynb#W1sdnNjb2RlLXJlbW90ZQ%3D%3D?line=19'>20</a>\u001b[0m \u001b[39m#panel_size = (600, 448)\u001b[39;00m\n\u001b[1;32m     <a href='vscode-notebook-cell://ssh-remote%2B192.168.0.66/home/oli/eInk-weather-display/eInk-weather-display/Weather_test.ipynb#W1sdnNjb2RlLXJlbW90ZQ%3D%3D?line=20'>21</a>\u001b[0m \u001b[39m#(epd_so, panel_size) = utils.get_epd_data(config)\u001b[39;00m\n\u001b[1;32m     <a href='vscode-notebook-cell://ssh-remote%2B192.168.0.66/home/oli/eInk-weather-display/eInk-weather-display/Weather_test.ipynb#W1sdnNjb2RlLXJlbW90ZQ%3D%3D?line=22'>23</a>\u001b[0m logger\u001b[39m.\u001b[39minfo(\u001b[39m\"\u001b[39m\u001b[39mInitial refresh\u001b[39m\u001b[39m\"\u001b[39m)\n\u001b[0;32m---> <a href='vscode-notebook-cell://ssh-remote%2B192.168.0.66/home/oli/eInk-weather-display/eInk-weather-display/Weather_test.ipynb#W1sdnNjb2RlLXJlbW90ZQ%3D%3D?line=23'>24</a>\u001b[0m image \u001b[39m=\u001b[39m refresh\u001b[39m.\u001b[39;49mrefresh(panel_size, fonts, images, config, inky, \u001b[39mTrue\u001b[39;49;00m)\n",
      "File \u001b[0;32m~/eInk-weather-display/eInk-weather-display/refresh.py:59\u001b[0m, in \u001b[0;36mrefresh\u001b[0;34m(panel_size, fonts, images, config, inky, init)\u001b[0m\n\u001b[1;32m     55\u001b[0m \u001b[39m#full_image.paste(observation_panel, (0, 0))\u001b[39;00m\n\u001b[1;32m     56\u001b[0m \u001b[39m#full_image.paste(sensor_panel_in, (observation_panel.width, 0))\u001b[39;00m\n\u001b[1;32m     57\u001b[0m \u001b[39m#full_image.paste(sensor_panel_out, (observation_panel.width, sensor_panel_in.height + 20))\u001b[39;00m\n\u001b[1;32m     58\u001b[0m full_image\u001b[39m.\u001b[39mpaste(forecasts_panel, (\u001b[39m0\u001b[39m, panel_size[\u001b[39m1\u001b[39m] \u001b[39m-\u001b[39m forecasts_panel\u001b[39m.\u001b[39mheight))\n\u001b[0;32m---> 59\u001b[0m full_image\u001b[39m.\u001b[39;49mpaste(El_panel, (\u001b[39m0\u001b[39;49m, \u001b[39m0\u001b[39;49m))\n\u001b[1;32m     61\u001b[0m \u001b[39m#full_image.paste(celestial_panel, (observation_panel.width + sensor_panel_in.width, 0))\u001b[39;00m\n\u001b[1;32m     62\u001b[0m \u001b[39m#full_image.paste(info_panel, (panel_size[0] - info_panel.width, 0))\u001b[39;00m\n\u001b[1;32m     63\u001b[0m elapsed_draw_time \u001b[39m=\u001b[39m timer() \u001b[39m-\u001b[39m start_draw_time\n",
      "File \u001b[0;32m~/venv/eink/lib/python3.9/site-packages/PIL/Image.py:1608\u001b[0m, in \u001b[0;36mImage.paste\u001b[0;34m(self, im, box, mask)\u001b[0m\n\u001b[1;32m   1605\u001b[0m         size \u001b[39m=\u001b[39m mask\u001b[39m.\u001b[39msize\n\u001b[1;32m   1606\u001b[0m     \u001b[39melse\u001b[39;00m:\n\u001b[1;32m   1607\u001b[0m         \u001b[39m# FIXME: use self.size here?\u001b[39;00m\n\u001b[0;32m-> 1608\u001b[0m         \u001b[39mraise\u001b[39;00m \u001b[39mValueError\u001b[39;00m(\u001b[39m\"\u001b[39m\u001b[39mcannot determine region size; use 4-item box\u001b[39m\u001b[39m\"\u001b[39m)\n\u001b[1;32m   1609\u001b[0m     box \u001b[39m+\u001b[39m\u001b[39m=\u001b[39m (box[\u001b[39m0\u001b[39m] \u001b[39m+\u001b[39m size[\u001b[39m0\u001b[39m], box[\u001b[39m1\u001b[39m] \u001b[39m+\u001b[39m size[\u001b[39m1\u001b[39m])\n\u001b[1;32m   1611\u001b[0m \u001b[39mif\u001b[39;00m \u001b[39misinstance\u001b[39m(im, \u001b[39mstr\u001b[39m):\n",
      "\u001b[0;31mValueError\u001b[0m: cannot determine region size; use 4-item box"
     ]
    },
    {
     "data": {
      "image/png": "[encoded data removed]",
      "text/plain": [
       "<Figure size 1620x615.6 with 1 Axes>"
      ]
     },
     "metadata": {
      "needs_background": "light"
     },
     "output_type": "display_data"
    }
   ],
   "source": [
    "CONFIG_FILENAME = 'config.ini'\n",
    "log.setup()\n",
    "logger = logging.getLogger(__name__)\n",
    "logger.info(\"App starting\")\n",
    "utils.check_python_version()\n",
    "logger.info(f'Reading config file \"{CONFIG_FILENAME}\"')\n",
    "\n",
    "inky = Inky()\n",
    "with open(CONFIG_FILENAME) as f:\n",
    "    config_parser = configparser.ConfigParser()\n",
    "    config_parser.read_file(f)\n",
    "    logger.info('Config: %s', config_parser.items('general'))\n",
    "    config = config_parser['general']\n",
    "\n",
    "    fonts = utils.get_fonts(config)\n",
    "    images = get_weather_images()\n",
    "\n",
    "    logger.info('Import epd control library')\n",
    "    panel_size = inky.resolution\n",
    "    #panel_size = (600, 448)\n",
    "    #(epd_so, panel_size) = utils.get_epd_data(config)\n",
    "\n",
    "    logger.info(\"Initial refresh\")\n",
    "    image = refresh.refresh(panel_size, fonts, images, config, inky, True)  # Once in the beginning\n"
   ]
  },
  {
   "cell_type": "code",
   "execution_count": null,
   "metadata": {},
   "outputs": [
    {
     "data": {
      "text/plain": [
       "(448, 600, 3)"
      ]
     },
     "execution_count": 3,
     "metadata": {},
     "output_type": "execute_result"
    }
   ],
   "source": [
    "import numpy as np\n",
    "\n",
    "im = np.array(image)\n",
    "im.shape"
   ]
  },
  {
   "cell_type": "code",
   "execution_count": null,
   "metadata": {},
   "outputs": [],
   "source": []
  }
 ],
 "metadata": {
  "kernelspec": {
   "display_name": "Python 3.9.2 ('eink')",
   "language": "python",
   "name": "python3"
  },
  "language_info": {
   "codemirror_mode": {
    "name": "ipython",
    "version": 3
   },
   "file_extension": ".py",
   "mimetype": "text/x-python",
   "name": "python",
   "nbconvert_exporter": "python",
   "pygments_lexer": "ipython3",
   "version": "3.9.2"
  },
  "orig_nbformat": 4,
  "vscode": {
   "interpreter": {
    "hash": "e8e6a5badf42d97750ebbef5df75e16b56e213a43b280a42a5209d8c317644d4"
   }
  }
 },
 "nbformat": 4,
 "nbformat_minor": 2
}
