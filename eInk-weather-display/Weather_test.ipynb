{
 "cells": [
  {
   "cell_type": "code",
   "execution_count": 1,
   "metadata": {},
   "outputs": [],
   "source": [
    "#%load_ext autoreload\n",
    "#%autoreload 2\n",
    "\n",
    "import ctypes\n",
    "import logging\n",
    "from PIL import Image, ImageDraw\n",
    "#from observation_panel import get_observation_panel\n",
    "from info_panel import get_info_panel\n",
    "from forecast_panel import get_forecasts_panel\n",
    "from celestial_panel import get_celestial_panel\n",
    "from sensor_panel import get_sensor_panel\n",
    "#from sensor_data import get_sensor_data\n",
    "from timeit import default_timer as timer\n",
    "from configparser import SectionProxy\n",
    "from typing import Optional\n",
    "from type_alias import Icons, Fonts\n",
    "from multiprocessing import Process\n",
    "from weather import get_observation_data, get_forecast_data, get_radiation_data\n",
    "import log\n",
    "import logging\n",
    "import utils\n",
    "from icons import get_weather_images\n",
    "import configparser\n",
    "import refresh\n",
    "from inky.inky_uc8159 import Inky, DESATURATED_PALETTE, SATURATED_PALETTE\n",
    "\n",
    "\n"
   ]
  },
  {
   "cell_type": "code",
   "execution_count": 3,
   "metadata": {},
   "outputs": [
    {
     "name": "stderr",
     "output_type": "stream",
     "text": [
      "2022-08-16 22:45:56 - __main__ - INFO - App starting\n",
      "2022-08-16 22:45:56 - __main__ - INFO - Reading config file \"config.ini\"\n",
      "2022-08-16 22:45:56 - __main__ - INFO - Config: [('fmi_location', 'Copenhagen'), ('use_random_data', 'False'), ('draw_panel_borders', 'True'), ('draw_borders', 'True'), ('moon_icon_size', '120'), ('ruuvitag_mac_in', 'AA:BB:CC:DD:EE:FF'), ('ruuvitag_mac_out', 'AA:BB:CC:DD:EE:FF'), ('sensor_poll_timeout', '10000'), ('rotate_180', 'False'), ('mirror_horizontal', 'False'), ('epd_model', '10.3'), ('epd_voltage', '1370'), ('file_output', 'False'), ('output_filename', 'image.png'), ('bits_per_pixel', '1'), ('refresh_full_interval', '60'), ('refresh_partial_interval', '1'), ('high_temperature_warning_threshold', '25'), ('extreme_high_temperature_warning_threshold', '30'), ('low_temperature_warning_threshold', '-20'), ('extreme_low_temperature_warning_threshold', '-30'), ('tropical_night_temperature_warning_threshold', '20')]\n",
      "2022-08-16 22:45:56 - icons - INFO - Importing icons\n",
      "2022-08-16 22:45:56 - __main__ - INFO - Import epd control library\n",
      "2022-08-16 22:45:56 - __main__ - INFO - Initial refresh\n",
      "2022-08-16 22:45:56 - refresh - INFO - Refresh started\n",
      "2022-08-16 22:45:56 - urllib3.connectionpool - DEBUG - Starting new HTTP connection (1): opendata.fmi.fi:80\n",
      "2022-08-16 22:45:56 - urllib3.connectionpool - DEBUG - http://opendata.fmi.fi:80 \"GET /wfs/eng?service=WFS&version=2.0.0&request=GetFeature&storedQuery_id=fmi%3A%3Aforecast%3A%3Aharmonie%3A%3Asurface%3A%3Apoint%3A%3Amultipointcoverage&place=Copenhagen&parameters=Temperature%2CWindSpeedMS%2CWindDirection%2CTotalCloudCover%2CWeatherSymbol3&starttime=2022-08-17T03%3A00%3A00%2B02%3A00 HTTP/1.1\" 200 2864\n",
      "2022-08-16 22:45:56 - refresh - INFO - Received forecast data: ({'2022-08-17T01:00:00+00:00': {'Temperature': 21.4, 'WindSpeedMS': 2.03, 'WindDirection': 212.0, 'TotalCloudCover': 0.0, 'WeatherSymbol3': 1.0}, '2022-08-17T07:00:00+00:00': {'Temperature': 22.7, 'WindSpeedMS': 1.61, 'WindDirection': 287.0, 'TotalCloudCover': 49.4, 'WeatherSymbol3': 2.0}, '2022-08-17T13:00:00+00:00': {'Temperature': 26.2, 'WindSpeedMS': 4.0, 'WindDirection': 53.0, 'TotalCloudCover': 52.2, 'WeatherSymbol3': 2.0}, '2022-08-17T19:00:00+00:00': {'Temperature': 23.9, 'WindSpeedMS': 2.63, 'WindDirection': 21.0, 'TotalCloudCover': 64.7, 'WeatherSymbol3': 2.0}, '2022-08-18T01:00:00+00:00': {'Temperature': 22.0, 'WindSpeedMS': 1.98, 'WindDirection': 68.0, 'TotalCloudCover': 31.3, 'WeatherSymbol3': 1.0}, '2022-08-18T07:00:00+00:00': {'Temperature': 23.2, 'WindSpeedMS': 2.33, 'WindDirection': 69.0, 'TotalCloudCover': 2.9, 'WeatherSymbol3': 1.0}, '2022-08-18T13:00:00+00:00': {'Temperature': 28.9, 'WindSpeedMS': 4.3, 'WindDirection': 139.0, 'TotalCloudCover': 53.3, 'WeatherSymbol3': 2.0}}, ('55.67594', '12.56553'), 'Copenhagen', '2618425')\n",
      "2022-08-16 22:45:56 - refresh - INFO - Drawing panels\n",
      "2022-08-16 22:45:56 - forecast_panel - INFO - Generating forecast panel\n",
      "2022-08-16 22:45:57 - info_panel - INFO - Generating info panel\n",
      "2022-08-16 22:45:57 - refresh - INFO - Pasting panels\n",
      "2022-08-16 22:45:57 - refresh - INFO - Sending image to EPD, full refresh\n",
      "2022-08-16 22:46:07 - refresh - DEBUG - Exit code: None\n",
      "2022-08-16 22:46:07 - refresh - ERROR - An error occured during draw_image_8bit()\n",
      "2022-08-16 22:46:07 - refresh - INFO - Total time: 10.8 s, refresh: 10.3 s, API fetch: 0.1 s, sensor poll: 0.0, draw time: 0.4 s\n",
      "2022-08-16 22:46:07 - refresh - INFO - Refresh complete\n"
     ]
    }
   ],
   "source": [
    "CONFIG_FILENAME = 'config.ini'\n",
    "log.setup()\n",
    "logger = logging.getLogger(__name__)\n",
    "logger.info(\"App starting\")\n",
    "utils.check_python_version()\n",
    "logger.info(f'Reading config file \"{CONFIG_FILENAME}\"')\n",
    "\n",
    "inky = Inky()\n",
    "with open(CONFIG_FILENAME) as f:\n",
    "    config_parser = configparser.ConfigParser()\n",
    "    config_parser.read_file(f)\n",
    "    logger.info('Config: %s', config_parser.items('general'))\n",
    "    config = config_parser['general']\n",
    "\n",
    "    fonts = utils.get_fonts(config)\n",
    "    images = get_weather_images()\n",
    "\n",
    "    logger.info('Import epd control library')\n",
    "    panel_size = inky.resolution\n",
    "    #(epd_so, panel_size) = utils.get_epd_data(config)\n",
    "\n",
    "    logger.info(\"Initial refresh\")\n",
    "    image = refresh.refresh(panel_size, fonts, images, config, inky, True)  # Once in the beginning\n"
   ]
  },
  {
   "cell_type": "code",
   "execution_count": 5,
   "metadata": {},
   "outputs": [
    {
     "data": {
      "text/plain": [
       "(448, 600)"
      ]
     },
     "execution_count": 5,
     "metadata": {},
     "output_type": "execute_result"
    }
   ],
   "source": [
    "import numpy as np\n",
    "\n",
    "im = np.array(image)\n",
    "im.shape"
   ]
  },
  {
   "cell_type": "code",
   "execution_count": null,
   "metadata": {},
   "outputs": [],
   "source": []
  }
 ],
 "metadata": {
  "kernelspec": {
   "display_name": "Python 3.9.2 ('eink')",
   "language": "python",
   "name": "python3"
  },
  "language_info": {
   "codemirror_mode": {
    "name": "ipython",
    "version": 3
   },
   "file_extension": ".py",
   "mimetype": "text/x-python",
   "name": "python",
   "nbconvert_exporter": "python",
   "pygments_lexer": "ipython3",
   "version": "3.9.2"
  },
  "orig_nbformat": 4,
  "vscode": {
   "interpreter": {
    "hash": "e8e6a5badf42d97750ebbef5df75e16b56e213a43b280a42a5209d8c317644d4"
   }
  }
 },
 "nbformat": 4,
 "nbformat_minor": 2
}
