{
 "cells": [
  {
   "cell_type": "code",
   "execution_count": 7,
   "metadata": {},
   "outputs": [],
   "source": [
    "import ctypes\n",
    "import logging\n",
    "from PIL import Image, ImageDraw\n",
    "#from observation_panel import get_observation_panel\n",
    "from info_panel import get_info_panel\n",
    "from forecast_panel import get_forecasts_panel\n",
    "from celestial_panel import get_celestial_panel\n",
    "from sensor_panel import get_sensor_panel\n",
    "#from sensor_data import get_sensor_data\n",
    "from timeit import default_timer as timer\n",
    "from configparser import SectionProxy\n",
    "from typing import Optional\n",
    "from type_alias import Icons, Fonts\n",
    "from multiprocessing import Process\n",
    "from weather import get_observation_data, get_forecast_data, get_radiation_data\n",
    "import log\n",
    "import logging\n",
    "import utils\n",
    "from icons import get_weather_images\n",
    "import configparser\n",
    "import refresh\n",
    "\n"
   ]
  },
  {
   "cell_type": "code",
   "execution_count": 8,
   "metadata": {},
   "outputs": [
    {
     "name": "stderr",
     "output_type": "stream",
     "text": [
      "2022-08-12 23:49:45 - __main__ - INFO - App starting\n",
      "2022-08-12 23:49:45 - __main__ - INFO - Reading config file \"config.ini\"\n"
     ]
    }
   ],
   "source": [
    "CONFIG_FILENAME = 'config.ini'\n",
    "log.setup()\n",
    "logger = logging.getLogger(__name__)\n",
    "logger.info(\"App starting\")\n",
    "utils.check_python_version()\n",
    "logger.info(f'Reading config file \"{CONFIG_FILENAME}\"')\n",
    "with open(CONFIG_FILENAME) as f:\n",
    "    config_parser = configparser.ConfigParser()\n",
    "    config_parser.read_file(f)\n",
    "    logger.info('Config: %s', config_parser.items('general'))\n",
    "    config = config_parser['general']\n",
    "\n",
    "    fonts = utils.get_fonts(config)\n",
    "    images = get_weather_images()\n",
    "\n",
    "    logger.info('Import epd control library')\n",
    "    (epd_so, panel_size) = utils.get_epd_data(config)\n",
    "\n",
    "    logger.info(\"Initial refresh\")\n",
    "    refresh.refresh(panel_size, fonts, images, config, epd_so, True)  # Once in the beginning\n"
   ]
  }
 ],
 "metadata": {
  "kernelspec": {
   "display_name": "Python 3.10.4 ('hobby')",
   "language": "python",
   "name": "python3"
  },
  "language_info": {
   "codemirror_mode": {
    "name": "ipython",
    "version": 3
   },
   "file_extension": ".py",
   "mimetype": "text/x-python",
   "name": "python",
   "nbconvert_exporter": "python",
   "pygments_lexer": "ipython3",
   "version": "3.6.13"
  },
  "orig_nbformat": 4,
  "vscode": {
   "interpreter": {
    "hash": "8b7fda614bd883c30ba41441d09079eb1cb4fded1d6538962e91307e6dccafc3"
   }
  }
 },
 "nbformat": 4,
 "nbformat_minor": 2
}
