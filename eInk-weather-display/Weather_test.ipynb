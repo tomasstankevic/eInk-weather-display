{
 "cells": [
  {
   "cell_type": "code",
   "execution_count": 1,
   "metadata": {},
   "outputs": [],
   "source": [
    "import ctypes\n",
    "import logging\n",
    "from PIL import Image, ImageDraw\n",
    "#from observation_panel import get_observation_panel\n",
    "from info_panel import get_info_panel\n",
    "from forecast_panel import get_forecasts_panel\n",
    "from celestial_panel import get_celestial_panel\n",
    "from sensor_panel import get_sensor_panel\n",
    "#from sensor_data import get_sensor_data\n",
    "from timeit import default_timer as timer\n",
    "from configparser import SectionProxy\n",
    "from typing import Optional\n",
    "from type_alias import Icons, Fonts\n",
    "from multiprocessing import Process\n",
    "from weather import get_observation_data, get_forecast_data, get_radiation_data\n",
    "import log\n",
    "import logging\n",
    "import utils\n",
    "from icons import get_weather_images\n",
    "import configparser\n",
    "import refresh\n",
    "\n"
   ]
  },
  {
   "cell_type": "code",
   "execution_count": 3,
   "metadata": {},
   "outputs": [
    {
     "name": "stderr",
     "output_type": "stream",
     "text": [
      "2022-08-13 23:42:40 - __main__ - INFO - App starting\n",
      "2022-08-13 23:42:40 - __main__ - INFO - Reading config file \"eInk-weather-display/config.ini\"\n",
      "2022-08-13 23:42:40 - __main__ - INFO - Config: [('fmi_location', 'Copenhagen'), ('use_random_data', 'False'), ('draw_panel_borders', 'True'), ('draw_borders', 'True'), ('moon_icon_size', '120'), ('ruuvitag_mac_in', 'AA:BB:CC:DD:EE:FF'), ('ruuvitag_mac_out', 'AA:BB:CC:DD:EE:FF'), ('sensor_poll_timeout', '10000'), ('rotate_180', 'True'), ('mirror_horizontal', 'True'), ('epd_model', '10.3'), ('epd_voltage', '1370'), ('file_output', 'True'), ('output_filename', 'image.png'), ('bits_per_pixel', '4'), ('refresh_full_interval', '60'), ('refresh_partial_interval', '1'), ('high_temperature_warning_threshold', '25'), ('extreme_high_temperature_warning_threshold', '30'), ('low_temperature_warning_threshold', '-20'), ('extreme_low_temperature_warning_threshold', '-30'), ('tropical_night_temperature_warning_threshold', '20')]\n"
     ]
    },
    {
     "ename": "OSError",
     "evalue": "cannot open resource",
     "output_type": "error",
     "traceback": [
      "\u001b[0;31m---------------------------------------------------------------------------\u001b[0m",
      "\u001b[0;31mOSError\u001b[0m                                   Traceback (most recent call last)",
      "\u001b[1;32m/home/oli/eInk-weather-display/eInk-weather-display/Weather_test.ipynb Cell 2\u001b[0m in \u001b[0;36m<cell line: 7>\u001b[0;34m()\u001b[0m\n\u001b[1;32m     <a href='vscode-notebook-cell://ssh-remote%2B192.168.0.66/home/oli/eInk-weather-display/eInk-weather-display/Weather_test.ipynb#W1sdnNjb2RlLXJlbW90ZQ%3D%3D?line=9'>10</a>\u001b[0m logger\u001b[39m.\u001b[39minfo(\u001b[39m'\u001b[39m\u001b[39mConfig: \u001b[39m\u001b[39m%s\u001b[39;00m\u001b[39m'\u001b[39m, config_parser\u001b[39m.\u001b[39mitems(\u001b[39m'\u001b[39m\u001b[39mgeneral\u001b[39m\u001b[39m'\u001b[39m))\n\u001b[1;32m     <a href='vscode-notebook-cell://ssh-remote%2B192.168.0.66/home/oli/eInk-weather-display/eInk-weather-display/Weather_test.ipynb#W1sdnNjb2RlLXJlbW90ZQ%3D%3D?line=10'>11</a>\u001b[0m config \u001b[39m=\u001b[39m config_parser[\u001b[39m'\u001b[39m\u001b[39mgeneral\u001b[39m\u001b[39m'\u001b[39m]\n\u001b[0;32m---> <a href='vscode-notebook-cell://ssh-remote%2B192.168.0.66/home/oli/eInk-weather-display/eInk-weather-display/Weather_test.ipynb#W1sdnNjb2RlLXJlbW90ZQ%3D%3D?line=12'>13</a>\u001b[0m fonts \u001b[39m=\u001b[39m utils\u001b[39m.\u001b[39;49mget_fonts(config)\n\u001b[1;32m     <a href='vscode-notebook-cell://ssh-remote%2B192.168.0.66/home/oli/eInk-weather-display/eInk-weather-display/Weather_test.ipynb#W1sdnNjb2RlLXJlbW90ZQ%3D%3D?line=13'>14</a>\u001b[0m images \u001b[39m=\u001b[39m get_weather_images()\n\u001b[1;32m     <a href='vscode-notebook-cell://ssh-remote%2B192.168.0.66/home/oli/eInk-weather-display/eInk-weather-display/Weather_test.ipynb#W1sdnNjb2RlLXJlbW90ZQ%3D%3D?line=15'>16</a>\u001b[0m logger\u001b[39m.\u001b[39minfo(\u001b[39m'\u001b[39m\u001b[39mImport epd control library\u001b[39m\u001b[39m'\u001b[39m)\n",
      "File \u001b[0;32m~/eInk-weather-display/eInk-weather-display/utils.py:66\u001b[0m, in \u001b[0;36mget_fonts\u001b[0;34m(config)\u001b[0m\n\u001b[1;32m     62\u001b[0m \u001b[39melse\u001b[39;00m:\n\u001b[1;32m     63\u001b[0m   \u001b[39mraise\u001b[39;00m \u001b[39mException\u001b[39;00m(\u001b[39mf\u001b[39m\u001b[39m'\u001b[39m\u001b[39mUnsupported model: \u001b[39m\u001b[39m{\u001b[39;00mconfig\u001b[39m.\u001b[39mget(\u001b[39m\"\u001b[39m\u001b[39mEPD_MODEL\u001b[39m\u001b[39m\"\u001b[39m)\u001b[39m}\u001b[39;00m\u001b[39m'\u001b[39m)\n\u001b[1;32m     65\u001b[0m \u001b[39mreturn\u001b[39;00m {\n\u001b[0;32m---> 66\u001b[0m   \u001b[39m'\u001b[39m\u001b[39mfont_lg\u001b[39m\u001b[39m'\u001b[39m: ImageFont\u001b[39m.\u001b[39;49mtruetype(\u001b[39m'\u001b[39;49m\u001b[39mfonts/regular.woff\u001b[39;49m\u001b[39m'\u001b[39;49m, font_mult \u001b[39m*\u001b[39;49m \u001b[39m42\u001b[39;49m),\n\u001b[1;32m     67\u001b[0m   \u001b[39m'\u001b[39m\u001b[39mfont_md\u001b[39m\u001b[39m'\u001b[39m: ImageFont\u001b[39m.\u001b[39mtruetype(\u001b[39m'\u001b[39m\u001b[39mfonts/regular.woff\u001b[39m\u001b[39m'\u001b[39m, font_mult \u001b[39m*\u001b[39m \u001b[39m32\u001b[39m),\n\u001b[1;32m     68\u001b[0m   \u001b[39m'\u001b[39m\u001b[39mfont_sm\u001b[39m\u001b[39m'\u001b[39m: ImageFont\u001b[39m.\u001b[39mtruetype(\u001b[39m'\u001b[39m\u001b[39mfonts/regular.woff\u001b[39m\u001b[39m'\u001b[39m, font_mult \u001b[39m*\u001b[39m \u001b[39m18\u001b[39m),\n\u001b[1;32m     69\u001b[0m   \u001b[39m'\u001b[39m\u001b[39mfont_sm_bold\u001b[39m\u001b[39m'\u001b[39m: ImageFont\u001b[39m.\u001b[39mtruetype(\u001b[39m'\u001b[39m\u001b[39mfonts/bold.woff\u001b[39m\u001b[39m'\u001b[39m, font_mult \u001b[39m*\u001b[39m \u001b[39m18\u001b[39m),\n\u001b[1;32m     70\u001b[0m   \u001b[39m'\u001b[39m\u001b[39mfont_xs\u001b[39m\u001b[39m'\u001b[39m: ImageFont\u001b[39m.\u001b[39mtruetype(\u001b[39m'\u001b[39m\u001b[39mfonts/regular.woff\u001b[39m\u001b[39m'\u001b[39m, font_mult \u001b[39m*\u001b[39m \u001b[39m14\u001b[39m),\n\u001b[1;32m     71\u001b[0m   \u001b[39m'\u001b[39m\u001b[39mfont_xxs\u001b[39m\u001b[39m'\u001b[39m: ImageFont\u001b[39m.\u001b[39mtruetype(\u001b[39m'\u001b[39m\u001b[39mfonts/regular.woff\u001b[39m\u001b[39m'\u001b[39m, font_mult \u001b[39m*\u001b[39m \u001b[39m8\u001b[39m),\n\u001b[1;32m     72\u001b[0m   \u001b[39m'\u001b[39m\u001b[39mfont_misc_md\u001b[39m\u001b[39m'\u001b[39m: ImageFont\u001b[39m.\u001b[39mtruetype(\u001b[39m'\u001b[39m\u001b[39mfonts/misc.woff\u001b[39m\u001b[39m'\u001b[39m, font_mult \u001b[39m*\u001b[39m \u001b[39m32\u001b[39m)\n\u001b[1;32m     73\u001b[0m }\n",
      "File \u001b[0;32m~/venv/eink/lib/python3.9/site-packages/PIL/ImageFont.py:959\u001b[0m, in \u001b[0;36mtruetype\u001b[0;34m(font, size, index, encoding, layout_engine)\u001b[0m\n\u001b[1;32m    956\u001b[0m     \u001b[39mreturn\u001b[39;00m FreeTypeFont(font, size, index, encoding, layout_engine)\n\u001b[1;32m    958\u001b[0m \u001b[39mtry\u001b[39;00m:\n\u001b[0;32m--> 959\u001b[0m     \u001b[39mreturn\u001b[39;00m freetype(font)\n\u001b[1;32m    960\u001b[0m \u001b[39mexcept\u001b[39;00m \u001b[39mOSError\u001b[39;00m:\n\u001b[1;32m    961\u001b[0m     \u001b[39mif\u001b[39;00m \u001b[39mnot\u001b[39;00m is_path(font):\n",
      "File \u001b[0;32m~/venv/eink/lib/python3.9/site-packages/PIL/ImageFont.py:956\u001b[0m, in \u001b[0;36mtruetype.<locals>.freetype\u001b[0;34m(font)\u001b[0m\n\u001b[1;32m    955\u001b[0m \u001b[39mdef\u001b[39;00m \u001b[39mfreetype\u001b[39m(font):\n\u001b[0;32m--> 956\u001b[0m     \u001b[39mreturn\u001b[39;00m FreeTypeFont(font, size, index, encoding, layout_engine)\n",
      "File \u001b[0;32m~/venv/eink/lib/python3.9/site-packages/PIL/ImageFont.py:247\u001b[0m, in \u001b[0;36mFreeTypeFont.__init__\u001b[0;34m(self, font, size, index, encoding, layout_engine)\u001b[0m\n\u001b[1;32m    245\u001b[0m                 load_from_bytes(f)\n\u001b[1;32m    246\u001b[0m             \u001b[39mreturn\u001b[39;00m\n\u001b[0;32m--> 247\u001b[0m     \u001b[39mself\u001b[39m\u001b[39m.\u001b[39mfont \u001b[39m=\u001b[39m core\u001b[39m.\u001b[39;49mgetfont(\n\u001b[1;32m    248\u001b[0m         font, size, index, encoding, layout_engine\u001b[39m=\u001b[39;49mlayout_engine\n\u001b[1;32m    249\u001b[0m     )\n\u001b[1;32m    250\u001b[0m \u001b[39melse\u001b[39;00m:\n\u001b[1;32m    251\u001b[0m     load_from_bytes(font)\n",
      "\u001b[0;31mOSError\u001b[0m: cannot open resource"
     ]
    }
   ],
   "source": [
    "CONFIG_FILENAME = 'config.ini'\n",
    "log.setup()\n",
    "logger = logging.getLogger(__name__)\n",
    "logger.info(\"App starting\")\n",
    "utils.check_python_version()\n",
    "logger.info(f'Reading config file \"{CONFIG_FILENAME}\"')\n",
    "with open(CONFIG_FILENAME) as f:\n",
    "    config_parser = configparser.ConfigParser()\n",
    "    config_parser.read_file(f)\n",
    "    logger.info('Config: %s', config_parser.items('general'))\n",
    "    config = config_parser['general']\n",
    "\n",
    "    fonts = utils.get_fonts(config)\n",
    "    images = get_weather_images()\n",
    "\n",
    "    logger.info('Import epd control library')\n",
    "    (epd_so, panel_size) = utils.get_epd_data(config)\n",
    "\n",
    "    logger.info(\"Initial refresh\")\n",
    "    refresh.refresh(panel_size, fonts, images, config, epd_so, True)  # Once in the beginning\n"
   ]
  }
 ],
 "metadata": {
  "kernelspec": {
   "display_name": "Python 3.9.2 ('eink')",
   "language": "python",
   "name": "python3"
  },
  "language_info": {
   "codemirror_mode": {
    "name": "ipython",
    "version": 3
   },
   "file_extension": ".py",
   "mimetype": "text/x-python",
   "name": "python",
   "nbconvert_exporter": "python",
   "pygments_lexer": "ipython3",
   "version": "3.9.2"
  },
  "orig_nbformat": 4,
  "vscode": {
   "interpreter": {
    "hash": "e8e6a5badf42d97750ebbef5df75e16b56e213a43b280a42a5209d8c317644d4"
   }
  }
 },
 "nbformat": 4,
 "nbformat_minor": 2
}
