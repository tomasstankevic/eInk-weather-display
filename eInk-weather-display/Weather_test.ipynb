{
 "cells": [
  {
   "cell_type": "code",
   "execution_count": 3,
   "metadata": {},
   "outputs": [
    {
     "name": "stdout",
     "output_type": "stream",
     "text": [
      "The autoreload extension is already loaded. To reload it, use:\n",
      "  %reload_ext autoreload\n"
     ]
    }
   ],
   "source": [
    "%load_ext autoreload\n",
    "%autoreload 2\n",
    "\n",
    "import ctypes\n",
    "import logging\n",
    "from PIL import Image, ImageDraw\n",
    "#from observation_panel import get_observation_panel\n",
    "from info_panel import get_info_panel\n",
    "from forecast_panel import get_forecasts_panel\n",
    "from celestial_panel import get_celestial_panel\n",
    "from sensor_panel import get_sensor_panel\n",
    "#from sensor_data import get_sensor_data\n",
    "from timeit import default_timer as timer\n",
    "from configparser import SectionProxy\n",
    "from typing import Optional\n",
    "from type_alias import Icons, Fonts\n",
    "from multiprocessing import Process\n",
    "from weather import get_observation_data, get_forecast_data, get_radiation_data\n",
    "import log\n",
    "import logging\n",
    "import utils\n",
    "from icons import get_weather_images\n",
    "import configparser\n",
    "import refresh\n",
    "\n"
   ]
  },
  {
   "cell_type": "code",
   "execution_count": 4,
   "metadata": {},
   "outputs": [
    {
     "name": "stderr",
     "output_type": "stream",
     "text": [
      "2022-08-16 21:31:23 - __main__ - INFO - App starting\n",
      "2022-08-16 21:31:23 - __main__ - INFO - Reading config file \"config.ini\"\n",
      "2022-08-16 21:31:23 - __main__ - INFO - Config: [('fmi_location', 'Kongens Lyngby'), ('use_random_data', 'False'), ('draw_panel_borders', 'True'), ('draw_borders', 'True'), ('moon_icon_size', '120'), ('ruuvitag_mac_in', 'AA:BB:CC:DD:EE:FF'), ('ruuvitag_mac_out', 'AA:BB:CC:DD:EE:FF'), ('sensor_poll_timeout', '10000'), ('rotate_180', 'True'), ('mirror_horizontal', 'True'), ('epd_model', '10.3'), ('epd_voltage', '1370'), ('file_output', 'True'), ('output_filename', 'image.png'), ('bits_per_pixel', '4'), ('refresh_full_interval', '60'), ('refresh_partial_interval', '1'), ('high_temperature_warning_threshold', '25'), ('extreme_high_temperature_warning_threshold', '30'), ('low_temperature_warning_threshold', '-20'), ('extreme_low_temperature_warning_threshold', '-30'), ('tropical_night_temperature_warning_threshold', '20')]\n",
      "2022-08-16 21:31:23 - icons - INFO - Importing icons\n",
      "2022-08-16 21:31:24 - __main__ - INFO - Import epd control library\n",
      "2022-08-16 21:31:24 - __main__ - INFO - Initial refresh\n",
      "2022-08-16 21:31:24 - refresh - INFO - Refresh started\n",
      "2022-08-16 21:31:24 - urllib3.connectionpool - DEBUG - Starting new HTTP connection (1): opendata.fmi.fi:80\n",
      "2022-08-16 21:31:24 - urllib3.connectionpool - DEBUG - http://opendata.fmi.fi:80 \"GET /wfs/eng?service=WFS&version=2.0.0&request=GetFeature&storedQuery_id=fmi%3A%3Aforecast%3A%3Aharmonie%3A%3Asurface%3A%3Apoint%3A%3Amultipointcoverage&place=Kongens+Lyngby&parameters=Temperature%2CWindSpeedMS%2CWindDirection%2CTotalCloudCover%2CWeatherSymbol3&starttime=2022-08-17T03%3A00%3A00%2B02%3A00 HTTP/1.1\" 200 2874\n",
      "2022-08-16 21:31:24 - refresh - INFO - Received forecast data: ({'2022-08-17T01:00:00+00:00': {'Temperature': 20.3, 'WindSpeedMS': 1.84, 'WindDirection': 225.0, 'TotalCloudCover': 0.0, 'WeatherSymbol3': 1.0}, '2022-08-17T07:00:00+00:00': {'Temperature': 22.1, 'WindSpeedMS': 1.85, 'WindDirection': 288.0, 'TotalCloudCover': 35.6, 'WeatherSymbol3': 2.0}, '2022-08-17T13:00:00+00:00': {'Temperature': 26.9, 'WindSpeedMS': 2.85, 'WindDirection': 70.0, 'TotalCloudCover': 23.2, 'WeatherSymbol3': 1.0}, '2022-08-17T19:00:00+00:00': {'Temperature': 22.8, 'WindSpeedMS': 2.09, 'WindDirection': 16.0, 'TotalCloudCover': 75.3, 'WeatherSymbol3': 3.0}, '2022-08-18T01:00:00+00:00': {'Temperature': 20.2, 'WindSpeedMS': 1.39, 'WindDirection': 67.0, 'TotalCloudCover': 26.7, 'WeatherSymbol3': 1.0}, '2022-08-18T07:00:00+00:00': {'Temperature': 22.9, 'WindSpeedMS': 2.29, 'WindDirection': 84.0, 'TotalCloudCover': 0.3, 'WeatherSymbol3': 1.0}, '2022-08-18T13:00:00+00:00': {'Temperature': 29.1, 'WindSpeedMS': 4.53, 'WindDirection': 133.0, 'TotalCloudCover': 37.0, 'WeatherSymbol3': 2.0}}, ('55.77044', '12.50378'), 'Kongens Lyngby', '2618468')\n",
      "2022-08-16 21:31:24 - refresh - INFO - Drawing panels\n",
      "2022-08-16 21:31:24 - forecast_panel - INFO - Generating forecast panel\n",
      "2022-08-16 21:31:24 - info_panel - INFO - Generating info panel\n",
      "2022-08-16 21:31:24 - refresh - INFO - Pasting panels\n",
      "2022-08-16 21:31:24 - refresh - INFO - Saving image to image.png\n",
      "2022-08-16 21:31:24 - refresh - INFO - Total time: 0.2 s, refresh: 0 s, API fetch: 0.1 s, sensor poll: 0.0, draw time: 0.1 s\n",
      "2022-08-16 21:31:24 - refresh - INFO - Refresh complete\n"
     ]
    }
   ],
   "source": [
    "CONFIG_FILENAME = 'config.ini'\n",
    "log.setup()\n",
    "logger = logging.getLogger(__name__)\n",
    "logger.info(\"App starting\")\n",
    "utils.check_python_version()\n",
    "logger.info(f'Reading config file \"{CONFIG_FILENAME}\"')\n",
    "with open(CONFIG_FILENAME) as f:\n",
    "    config_parser = configparser.ConfigParser()\n",
    "    config_parser.read_file(f)\n",
    "    logger.info('Config: %s', config_parser.items('general'))\n",
    "    config = config_parser['general']\n",
    "\n",
    "    fonts = utils.get_fonts(config)\n",
    "    images = get_weather_images()\n",
    "\n",
    "    logger.info('Import epd control library')\n",
    "    (epd_so, panel_size) = utils.get_epd_data(config)\n",
    "\n",
    "    logger.info(\"Initial refresh\")\n",
    "    refresh.refresh(panel_size, fonts, images, config, epd_so, True)  # Once in the beginning\n"
   ]
  },
  {
   "cell_type": "code",
   "execution_count": null,
   "metadata": {},
   "outputs": [],
   "source": []
  }
 ],
 "metadata": {
  "kernelspec": {
   "display_name": "Python 3.10.4 ('hobby')",
   "language": "python",
   "name": "python3"
  },
  "language_info": {
   "codemirror_mode": {
    "name": "ipython",
    "version": 3
   },
   "file_extension": ".py",
   "mimetype": "text/x-python",
   "name": "python",
   "nbconvert_exporter": "python",
   "pygments_lexer": "ipython3",
   "version": "3.9.12"
  },
  "orig_nbformat": 4,
  "vscode": {
   "interpreter": {
    "hash": "8b7fda614bd883c30ba41441d09079eb1cb4fded1d6538962e91307e6dccafc3"
   }
  }
 },
 "nbformat": 4,
 "nbformat_minor": 2
}
