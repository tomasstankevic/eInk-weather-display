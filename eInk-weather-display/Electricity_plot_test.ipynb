{
 "cells": [
  {
   "cell_type": "code",
   "execution_count": 212,
   "metadata": {},
   "outputs": [
    {
     "name": "stdout",
     "output_type": "stream",
     "text": [
      "          Date      Time            Datetime  Price Hour Weekday\n",
      "21  2022-08-20  21:00:00 2022-08-20 21:00:00  6.612   21     Sat\n",
      "22  2022-08-20  22:00:00 2022-08-20 22:00:00  6.371   22     Sat\n",
      "23  2022-08-20  23:00:00 2022-08-20 23:00:00  5.858   23     Sat\n",
      "24  2022-08-21  00:00:00 2022-08-21 00:00:00  5.591    0     Sun\n",
      "25  2022-08-21  01:00:00 2022-08-21 01:00:00  5.133    1     Sun\n",
      "26  2022-08-21  02:00:00 2022-08-21 02:00:00  5.076    2     Sun\n",
      "27  2022-08-21  03:00:00 2022-08-21 03:00:00  4.791    3     Sun\n",
      "28  2022-08-21  04:00:00 2022-08-21 04:00:00  4.594    4     Sun\n",
      "29  2022-08-21  05:00:00 2022-08-21 05:00:00  4.604    5     Sun\n",
      "30  2022-08-21  06:00:00 2022-08-21 06:00:00  4.993    6     Sun\n",
      "31  2022-08-21  07:00:00 2022-08-21 07:00:00  4.829    7     Sun\n",
      "32  2022-08-21  08:00:00 2022-08-21 08:00:00  4.677    8     Sun\n",
      "33  2022-08-21  09:00:00 2022-08-21 09:00:00  4.540    9     Sun\n",
      "34  2022-08-21  10:00:00 2022-08-21 10:00:00  3.957   10     Sun\n",
      "35  2022-08-21  11:00:00 2022-08-21 11:00:00  3.236   11     Sun\n",
      "36  2022-08-21  12:00:00 2022-08-21 12:00:00  2.496   12     Sun\n",
      "37  2022-08-21  13:00:00 2022-08-21 13:00:00  2.311   13     Sun\n",
      "38  2022-08-21  14:00:00 2022-08-21 14:00:00  2.496   14     Sun\n",
      "39  2022-08-21  15:00:00 2022-08-21 15:00:00  3.490   15     Sun\n",
      "40  2022-08-21  16:00:00 2022-08-21 16:00:00  4.509   16     Sun\n",
      "41  2022-08-21  17:00:00 2022-08-21 17:00:00  5.821   17     Sun\n",
      "42  2022-08-21  18:00:00 2022-08-21 18:00:00  6.518   18     Sun\n",
      "43  2022-08-21  19:00:00 2022-08-21 19:00:00  7.094   19     Sun\n",
      "44  2022-08-21  20:00:00 2022-08-21 20:00:00  7.390   20     Sun\n",
      "45  2022-08-21  21:00:00 2022-08-21 21:00:00  7.261   21     Sun\n",
      "46  2022-08-21  22:00:00 2022-08-21 22:00:00  7.126   22     Sun\n",
      "47  2022-08-21  23:00:00 2022-08-21 23:00:00  6.890   23     Sun\n"
     ]
    }
   ],
   "source": [
    "import pandas as pd\n",
    "import numpy as np\n",
    "from matplotlib import pyplot as plt\n",
    "from datetime import datetime, timedelta, date\n",
    "from configparser import SectionProxy\n",
    "from logging import Logger\n",
    "import logging\n",
    "\n",
    "from typing import Mapping, Optional, Dict, List, Tuple\n",
    "\n",
    "link = 'https://andelenergi.dk/?obexport_format=csv&obexport_start=2022-08-10&obexport_end=2022-08-18&obexport_region=east'\n",
    "\n",
    "region = 'east'\n",
    "transport_overhead = 1.59 #DKK\n",
    "\n",
    "logger = logging.getLogger(__name__)\n",
    "logger.info('Getting price data')\n",
    "\n",
    "def make_El_price_URL(start_date: date, end_date: date, region: str) -> str:\n",
    "    url = 'https://andelenergi.dk/?obexport_format=csv&obexport_start='+str(start_date)+'&obexport_end='+str(end_date)+'&obexport_region='+region\n",
    "    return url\n",
    "\n",
    "def get_price_csv(start_date, end_date, region):\n",
    "    url = make_El_price_URL(start_date, end_date, region)\n",
    "    try:\n",
    "        el_data = pd.read_csv(url, decimal=',')\n",
    "    except Exception as e:\n",
    "        logger.exception('Error getting price data from: %s', url)\n",
    "        return None\n",
    "    el_data.Date = pd.to_datetime(el_data.Date)#.dt.date\n",
    "    el_data2 = el_data.set_index('Date')\n",
    "    el_data2.columns = pd.to_datetime(el_data2.columns)\n",
    "    el_data2_st = el_data2.stack()\n",
    "    dates = el_data2_st.index.get_level_values(0) \n",
    "    times = el_data2_st.index.get_level_values(1) \n",
    "    times.to_pydatetime()\n",
    "\n",
    "    df = pd.DataFrame(columns= ['Date', 'Time', 'Datetime','Price'])\n",
    "    df['Date'] = dates.date.astype(str)\n",
    "    df['Time'] = times.time.astype(str)\n",
    "    df['Hour'] = times.hour.astype(str)\n",
    "    df['Datetime'] = pd.to_datetime(df['Date'] + ' ' +df['Time'])\n",
    "    df['Price'] = el_data2_st.values+transport_overhead\n",
    "    df['Weekday'] = df['Datetime'].dt.day_name()\n",
    "    df['Weekday'] = df['Weekday'].str.slice(0, 3)\n",
    "\n",
    "    df_future = df[df['Datetime']>str(datetime.now())]\n",
    "    return df_future\n",
    "\n",
    "now = datetime.today()\n",
    "df_future = get_price_csv(now.date(), now.date()+timedelta(days=1), region)\n",
    "\n",
    "print(df_future)"
   ]
  },
  {
   "cell_type": "code",
   "execution_count": 213,
   "metadata": {},
   "outputs": [
    {
     "data": {
      "image/png": "[encoded data removed]",
      "text/plain": [
       "<Figure size 432x178.56 with 1 Axes>"
      ]
     },
     "metadata": {
      "needs_background": "light"
     },
     "output_type": "display_data"
    }
   ],
   "source": [
    "vsize = 448-200\n",
    "hsize = 600\n",
    "dpi = 100\n",
    "ax = df_future.plot.bar(x='Hour', y='Price', rot=0, figsize=(hsize/dpi,vsize/dpi))\n"
   ]
  },
  {
   "cell_type": "code",
   "execution_count": 211,
   "metadata": {},
   "outputs": [
    {
     "data": {
      "image/png": "[encoded data removed]",
      "text/plain": [
       "<Figure size 432x178.56 with 1 Axes>"
      ]
     },
     "metadata": {
      "needs_background": "light"
     },
     "output_type": "display_data"
    }
   ],
   "source": []
  },
  {
   "cell_type": "code",
   "execution_count": 196,
   "metadata": {},
   "outputs": [
    {
     "data": {
      "image/png": "[encoded data removed]",
      "text/plain": [
       "<Figure size 720x288 with 1 Axes>"
      ]
     },
     "metadata": {
      "needs_background": "light"
     },
     "output_type": "display_data"
    }
   ],
   "source": [
    "fig = plt.figure(figsize=[10,4])\n",
    "ax = fig.add_axes([0,0,1,1])\n",
    "ax.bar(df_future.Time,df_future.Price)\n",
    "plt.show()"
   ]
  },
  {
   "cell_type": "code",
   "execution_count": null,
   "metadata": {},
   "outputs": [],
   "source": []
  }
 ],
 "metadata": {
  "kernelspec": {
   "display_name": "Python 3.9.12 ('hobby')",
   "language": "python",
   "name": "python3"
  },
  "language_info": {
   "codemirror_mode": {
    "name": "ipython",
    "version": 3
   },
   "file_extension": ".py",
   "mimetype": "text/x-python",
   "name": "python",
   "nbconvert_exporter": "python",
   "pygments_lexer": "ipython3",
   "version": "3.9.12"
  },
  "orig_nbformat": 4,
  "vscode": {
   "interpreter": {
    "hash": "8b7fda614bd883c30ba41441d09079eb1cb4fded1d6538962e91307e6dccafc3"
   }
  }
 },
 "nbformat": 4,
 "nbformat_minor": 2
}
